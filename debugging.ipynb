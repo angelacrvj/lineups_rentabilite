{
 "cells": [
  {
   "cell_type": "markdown",
   "metadata": {},
   "source": [
    "### Debugging"
   ]
  },
  {
   "cell_type": "code",
   "execution_count": null,
   "metadata": {},
   "outputs": [],
   "source": [
    "import streamlit as st\n",
    "import pandas as pd\n",
    "import seaborn as sns\n",
    "import matplotlib.pyplot as plt\n",
    "import plotly.graph_objects as go\n",
    "import random\n",
    "import os"
   ]
  },
  {
   "cell_type": "markdown",
   "metadata": {},
   "source": [
    "#### Check valeurs radar chart "
   ]
  },
  {
   "cell_type": "code",
   "execution_count": 58,
   "metadata": {},
   "outputs": [
    {
     "name": "stderr",
     "output_type": "stream",
     "text": [
      "C:\\Users\\angel\\AppData\\Local\\Temp\\ipykernel_2304\\1430521497.py:33: SettingWithCopyWarning: \n",
      "A value is trying to be set on a copy of a slice from a DataFrame\n",
      "\n",
      "See the caveats in the documentation: https://pandas.pydata.org/pandas-docs/stable/user_guide/indexing.html#returning-a-view-versus-a-copy\n",
      "  df.rename(columns=stat_rename, inplace=True)\n"
     ]
    },
    {
     "data": {
      "text/html": [
       "<div>\n",
       "<style scoped>\n",
       "    .dataframe tbody tr th:only-of-type {\n",
       "        vertical-align: middle;\n",
       "    }\n",
       "\n",
       "    .dataframe tbody tr th {\n",
       "        vertical-align: top;\n",
       "    }\n",
       "\n",
       "    .dataframe thead th {\n",
       "        text-align: right;\n",
       "    }\n",
       "</style>\n",
       "<table border=\"1\" class=\"dataframe\">\n",
       "  <thead>\n",
       "    <tr style=\"text-align: right;\">\n",
       "      <th></th>\n",
       "      <th>Equipe</th>\n",
       "      <th>Points par poss. (offense)</th>\n",
       "      <th>centile_Points par poss. (offense)</th>\n",
       "      <th>Poss par match (offense)</th>\n",
       "      <th>centile_Poss par match (offense)</th>\n",
       "      <th>TS% (offense)</th>\n",
       "      <th>centile_TS% (offense)</th>\n",
       "      <th>Points par poss. (defense)</th>\n",
       "      <th>centile_Points par poss. (defense)</th>\n",
       "      <th>Poss par match (defense)</th>\n",
       "      <th>centile_Poss par match (defense)</th>\n",
       "      <th>TS% (defense)</th>\n",
       "      <th>centile_TS% (defense)</th>\n",
       "    </tr>\n",
       "    <tr>\n",
       "      <th>Lineup</th>\n",
       "      <th></th>\n",
       "      <th></th>\n",
       "      <th></th>\n",
       "      <th></th>\n",
       "      <th></th>\n",
       "      <th></th>\n",
       "      <th></th>\n",
       "      <th></th>\n",
       "      <th></th>\n",
       "      <th></th>\n",
       "      <th></th>\n",
       "      <th></th>\n",
       "      <th></th>\n",
       "    </tr>\n",
       "  </thead>\n",
       "  <tbody>\n",
       "    <tr>\n",
       "      <th>12 T. Hudgins, 34 D. DiLeo, 15 W. Yeguete, 93 N. Penda, 9 L. Delaunay</th>\n",
       "      <td>Le Mans</td>\n",
       "      <td>86.666667</td>\n",
       "      <td>50</td>\n",
       "      <td>105.830475</td>\n",
       "      <td>86</td>\n",
       "      <td>55.084746</td>\n",
       "      <td>44</td>\n",
       "      <td>100.000000</td>\n",
       "      <td>22</td>\n",
       "      <td>96.423322</td>\n",
       "      <td>37</td>\n",
       "      <td>66.818774</td>\n",
       "      <td>21</td>\n",
       "    </tr>\n",
       "    <tr>\n",
       "      <th>3 M. Salash, 8 J. Usher, 34 K. Kokila, 5 H. Benitez, 13 X. Castaneda</th>\n",
       "      <td>JL Bourg-en-Bresse</td>\n",
       "      <td>73.142857</td>\n",
       "      <td>27</td>\n",
       "      <td>110.497238</td>\n",
       "      <td>91</td>\n",
       "      <td>51.813472</td>\n",
       "      <td>32</td>\n",
       "      <td>82.432432</td>\n",
       "      <td>57</td>\n",
       "      <td>93.449092</td>\n",
       "      <td>53</td>\n",
       "      <td>56.045571</td>\n",
       "      <td>57</td>\n",
       "    </tr>\n",
       "  </tbody>\n",
       "</table>\n",
       "</div>"
      ],
      "text/plain": [
       "                                                                Equipe  \\\n",
       "Lineup                                                                   \n",
       "12 T. Hudgins, 34 D. DiLeo, 15 W. Yeguete, 93 N...             Le Mans   \n",
       "3 M. Salash, 8 J. Usher, 34 K. Kokila, 5 H. Ben...  JL Bourg-en-Bresse   \n",
       "\n",
       "                                                    Points par poss. (offense)  \\\n",
       "Lineup                                                                           \n",
       "12 T. Hudgins, 34 D. DiLeo, 15 W. Yeguete, 93 N...                   86.666667   \n",
       "3 M. Salash, 8 J. Usher, 34 K. Kokila, 5 H. Ben...                   73.142857   \n",
       "\n",
       "                                                    centile_Points par poss. (offense)  \\\n",
       "Lineup                                                                                   \n",
       "12 T. Hudgins, 34 D. DiLeo, 15 W. Yeguete, 93 N...                                  50   \n",
       "3 M. Salash, 8 J. Usher, 34 K. Kokila, 5 H. Ben...                                  27   \n",
       "\n",
       "                                                    Poss par match (offense)  \\\n",
       "Lineup                                                                         \n",
       "12 T. Hudgins, 34 D. DiLeo, 15 W. Yeguete, 93 N...                105.830475   \n",
       "3 M. Salash, 8 J. Usher, 34 K. Kokila, 5 H. Ben...                110.497238   \n",
       "\n",
       "                                                    centile_Poss par match (offense)  \\\n",
       "Lineup                                                                                 \n",
       "12 T. Hudgins, 34 D. DiLeo, 15 W. Yeguete, 93 N...                                86   \n",
       "3 M. Salash, 8 J. Usher, 34 K. Kokila, 5 H. Ben...                                91   \n",
       "\n",
       "                                                    TS% (offense)  \\\n",
       "Lineup                                                              \n",
       "12 T. Hudgins, 34 D. DiLeo, 15 W. Yeguete, 93 N...      55.084746   \n",
       "3 M. Salash, 8 J. Usher, 34 K. Kokila, 5 H. Ben...      51.813472   \n",
       "\n",
       "                                                    centile_TS% (offense)  \\\n",
       "Lineup                                                                      \n",
       "12 T. Hudgins, 34 D. DiLeo, 15 W. Yeguete, 93 N...                     44   \n",
       "3 M. Salash, 8 J. Usher, 34 K. Kokila, 5 H. Ben...                     32   \n",
       "\n",
       "                                                    Points par poss. (defense)  \\\n",
       "Lineup                                                                           \n",
       "12 T. Hudgins, 34 D. DiLeo, 15 W. Yeguete, 93 N...                  100.000000   \n",
       "3 M. Salash, 8 J. Usher, 34 K. Kokila, 5 H. Ben...                   82.432432   \n",
       "\n",
       "                                                    centile_Points par poss. (defense)  \\\n",
       "Lineup                                                                                   \n",
       "12 T. Hudgins, 34 D. DiLeo, 15 W. Yeguete, 93 N...                                  22   \n",
       "3 M. Salash, 8 J. Usher, 34 K. Kokila, 5 H. Ben...                                  57   \n",
       "\n",
       "                                                    Poss par match (defense)  \\\n",
       "Lineup                                                                         \n",
       "12 T. Hudgins, 34 D. DiLeo, 15 W. Yeguete, 93 N...                 96.423322   \n",
       "3 M. Salash, 8 J. Usher, 34 K. Kokila, 5 H. Ben...                 93.449092   \n",
       "\n",
       "                                                    centile_Poss par match (defense)  \\\n",
       "Lineup                                                                                 \n",
       "12 T. Hudgins, 34 D. DiLeo, 15 W. Yeguete, 93 N...                                37   \n",
       "3 M. Salash, 8 J. Usher, 34 K. Kokila, 5 H. Ben...                                53   \n",
       "\n",
       "                                                    TS% (defense)  \\\n",
       "Lineup                                                              \n",
       "12 T. Hudgins, 34 D. DiLeo, 15 W. Yeguete, 93 N...      66.818774   \n",
       "3 M. Salash, 8 J. Usher, 34 K. Kokila, 5 H. Ben...      56.045571   \n",
       "\n",
       "                                                    centile_TS% (defense)  \n",
       "Lineup                                                                     \n",
       "12 T. Hudgins, 34 D. DiLeo, 15 W. Yeguete, 93 N...                     21  \n",
       "3 M. Salash, 8 J. Usher, 34 K. Kokila, 5 H. Ben...                     57  "
      ]
     },
     "execution_count": 58,
     "metadata": {},
     "output_type": "execute_result"
    }
   ],
   "source": [
    "data = pd.read_csv(\"C:/Users/angel/Downloads/analyse_lineups_azad/lineups_rentabilite.csv\")\n",
    "df = data[[\"Lineup\", \n",
    "           \"Equipe\", \n",
    "           \"Rentabilite_possessions_equipe\",\n",
    "           'centile_Rentabilite_possessions_equipe',  \n",
    "           \"Rentabilite_temps_equipe\",\n",
    "            'centile_Rentabilite_temps_equipe',\n",
    "           \"True_Shooting_equipe_%\",\n",
    "           'centile_True_Shooting_equipe_%',\n",
    "           \"Rentabilite_possessions_opp\", \n",
    "            'centile_Rentabilite_possessions_opp',\n",
    "           \"Rentabilite_temps_opp\",\n",
    "            'centile_Rentabilite_temps_opp', \n",
    "           \"True_Shooting_%_opp\",\n",
    "           'centile_True_Shooting_%_opp'\n",
    "           ]]\n",
    "\n",
    "stat_rename = {\n",
    "    \"Rentabilite_possessions_equipe\": \"Points par poss. (offense)\",\n",
    "    \"Rentabilite_temps_equipe\": \"Poss par match (offense)\",\n",
    "    \"True_Shooting_equipe_%\": \"TS% (offense)\",\n",
    "    \"Rentabilite_possessions_opp\": \"Points par poss. (defense)\",\n",
    "    \"Rentabilite_temps_opp\": \"Poss par match (defense)\",\n",
    "    \"True_Shooting_%_opp\": \"TS% (defense)\",\n",
    "    \"centile_Rentabilite_possessions_equipe\": \"centile_Points par poss. (offense)\",\n",
    "    \"centile_Rentabilite_temps_equipe\": \"centile_Poss par match (offense)\",\n",
    "    \"centile_True_Shooting_equipe_%\": \"centile_TS% (offense)\",\n",
    "    \"centile_Rentabilite_possessions_opp\": \"centile_Points par poss. (defense)\",\n",
    "    \"centile_Rentabilite_temps_opp\": \"centile_Poss par match (defense)\",\n",
    "    \"centile_True_Shooting_%_opp\": \"centile_TS% (defense)\"\n",
    "}\n",
    "\n",
    "df.rename(columns=stat_rename, inplace=True)\n",
    "\n",
    "#Lineups à check : \n",
    "df.set_index('Lineup', inplace=True)\n",
    "df.loc[['12 T. Hudgins, 34 D. DiLeo, 15 W. Yeguete, 93 N. Penda, 9 L. Delaunay', '3 M. Salash, 8 J. Usher, 34 K. Kokila, 5 H. Benitez, 13 X. Castaneda']]"
   ]
  },
  {
   "cell_type": "markdown",
   "metadata": {},
   "source": [
    "#### check erreurs après renommage des colonnes"
   ]
  },
  {
   "cell_type": "markdown",
   "metadata": {},
   "source": [
    "-> colonnes manquantes à cause de la fonction calculate_matchup\n",
    "\n",
    "*(il fallait renommer \"True_Shooting_equipe_%\" en \"True_Shooting_%_equipe\" car la fonction calculate_matchup utilise un replace)*"
   ]
  },
  {
   "cell_type": "code",
   "execution_count": null,
   "metadata": {},
   "outputs": [
    {
     "name": "stdout",
     "output_type": "stream",
     "text": [
      "Validation des colonnes et calcul des matchups...\n",
      "Validation réussie. Voici un aperçu des résultats :\n",
      "                                              Lineup  \\\n",
      "0  12 T. Hudgins, 15 W. Yeguete, 44 W. Narace, 93...   \n",
      "1  12 T. Hudgins, 34 D. DiLeo, 15 W. Yeguete, 93 ...   \n",
      "2  34 D. DiLeo, 35 T. Thomas, 93 N. Penda, 2 T. B...   \n",
      "3  12 T. Hudgins, 34 D. DiLeo, 15 W. Yeguete, 44 ...   \n",
      "4  34 D. DiLeo, 35 T. Thomas, 93 N. Penda, 2 T. B...   \n",
      "\n",
      "   Rentabilite_possessions_equipe  Rentabilite_temps_equipe  \\\n",
      "0                      -36.716806                  0.936519   \n",
      "1                       -2.431092                  9.516632   \n",
      "2                      -14.521487                  6.220552   \n",
      "3                       20.706163                  0.216125   \n",
      "4                       29.506893                 -5.787527   \n",
      "\n",
      "   True_Shooting_%_equipe  Rentabilite_possessions_opp  Rentabilite_temps_opp  \\\n",
      "0              -21.628012                     1.731667             -24.373423   \n",
      "1               -5.689173                    13.325870              -7.834327   \n",
      "2               -8.492550                    24.234961              -8.674738   \n",
      "3               14.820033                    10.548092             -36.118848   \n",
      "4               18.714859                    15.598597             -11.626070   \n",
      "\n",
      "   True_Shooting_%_opp  \n",
      "0             1.237057  \n",
      "1             8.717310  \n",
      "2             8.784500  \n",
      "3             4.487949  \n",
      "4             3.508612  \n"
     ]
    }
   ],
   "source": [
    "data = pd.read_csv(\"C:/Users/angel/Downloads/analyse_lineups_azad/lineups_rentabilite_1301_clean.csv\")\n",
    "\n",
    "\n",
    "# Stats \n",
    "offensive_stats = [\"Rentabilite_possessions_equipe\", \"Rentabilite_temps_equipe\", \"True_Shooting_%_equipe\"]\n",
    "defensive_stats = [\"Rentabilite_possessions_opp\", \"Rentabilite_temps_opp\", \"True_Shooting_%_opp\"]\n",
    "all_stats = offensive_stats + defensive_stats\n",
    "\n",
    "stat_rename = {\n",
    "    \"Rentabilite_possessions_equipe\": \"Points par poss. (offense)\",\n",
    "    \"Rentabilite_temps_equipe\": \"Poss par match (offense)\",\n",
    "    \"True_Shooting_%_equipe\": \"TS% (offense)\",\n",
    "    \"Rentabilite_possessions_opp\": \"Points par poss. (defense)\",\n",
    "    \"Rentabilite_temps_opp\": \"Poss par match (defense)\",\n",
    "    \"True_Shooting_%_opp\": \"TS% (defense)\"\n",
    "}\n",
    "\n",
    "def calculate_matchup(team_lineups, opponent_lineups):\n",
    "    # Vérification des colonnes nécessaires dans `team_lineups`\n",
    "    missing_team_stats = [stat for stat in all_stats if stat not in team_lineups.columns]\n",
    "    # Vérification des colonnes nécessaires dans `opponent_lineups`\n",
    "    missing_opponent_stats = [stat.replace(\"equipe\", \"opp\") for stat in offensive_stats if stat.replace(\"equipe\", \"opp\") not in opponent_lineups.columns]\n",
    "    missing_opponent_stats += [stat.replace(\"opp\", \"equipe\") for stat in defensive_stats if stat.replace(\"opp\", \"equipe\") not in opponent_lineups.columns]\n",
    "\n",
    "    # Regroupe les colonnes manquantes\n",
    "    missing_stats = missing_team_stats + missing_opponent_stats\n",
    "\n",
    "    # Si des colonnes sont manquantes, lève une erreur\n",
    "    if missing_stats:\n",
    "        print(f\"Colonnes manquantes : {missing_stats}\")\n",
    "        raise ValueError(f\"Colonnes manquantes dans les données : {missing_stats}\")\n",
    "\n",
    "    # Calculs des matchups\n",
    "    results = []\n",
    "    for _, lineup in team_lineups.iterrows():\n",
    "        lineup_id = f\"{lineup['Lineup']} ({lineup['Plus/Minus']})\"  # Identifiant combiné\n",
    "        row = {\"Lineup\": lineup_id}\n",
    "\n",
    "        for stat in all_stats:\n",
    "            if stat in offensive_stats:\n",
    "                opp_stat = stat.replace(\"equipe\", \"opp\")\n",
    "                opponent_stat_mean = opponent_lineups[opp_stat].mean()\n",
    "                row[stat] = lineup[stat] - opponent_stat_mean\n",
    "            else:\n",
    "                opp_stat = stat.replace(\"opp\", \"equipe\")\n",
    "                opponent_stat_mean = opponent_lineups[opp_stat].mean()\n",
    "                row[stat] = lineup[stat] - opponent_stat_mean\n",
    "\n",
    "        results.append(row)\n",
    "    return pd.DataFrame(results)\n",
    "\n",
    "\n",
    "# Sélectionner les données des équipes (remplace par des noms valides de ton dataset)\n",
    "team_name = \"Le Mans\"  # Remplace par une équipe valide\n",
    "opponent_name = \"JL Bourg-en-Bresse\"  # Remplace par une équipe valide\n",
    "\n",
    "team_data = data[data[\"Equipe\"] == team_name]\n",
    "opponent_data = data[data[\"Equipe\"] == opponent_name]\n",
    "\n",
    "# Test de la fonction\n",
    "try:\n",
    "    print(\"Validation des colonnes et calcul des matchups...\")\n",
    "    result = calculate_matchup(team_data, opponent_data)\n",
    "    print(\"Validation réussie. Voici un aperçu des résultats :\")\n",
    "    print(result.head())\n",
    "except ValueError as e:\n",
    "    print(\"Erreur détectée :\", e)\n"
   ]
  },
  {
   "cell_type": "code",
   "execution_count": 15,
   "metadata": {},
   "outputs": [
    {
     "name": "stdout",
     "output_type": "stream",
     "text": [
      "['id_lineups', 'Lineup', 'Plus/Minus', 'Minutes', 'Possessions Equipe', 'Points Equipe', 'Field goals attempted Equipe', 'Field goals made Equipe', '2-pt field goals attempted Equipe', '2-pt field goals made Equipe', '2-pt field goals, % Equipe', 'centile_2-pt field goals, % Equipe', '3-pt field goals attempted Equipe', '3-pt field goals made Equipe', '3-pt field goals, % Equipe', 'centile_3-pt field goals, % Equipe', 'Free throws attempted Equipe', 'Free throws made Equipe', 'Free throws, % Equipe', 'centile_Free throws, % Equipe', 'Rebounds Equipe', 'Offensive rebounds Equipe', 'Defensive rebounds Equipe', 'Assists Equipe', 'Steals Equipe', 'Turnovers Equipe', 'Fouls Equipe', 'Possessions Opposant', 'Points Opposant', 'Field goals attempted Opposant', 'Field goals made Opposant', '2-pt field goals attempted Opposant', '2-pt field goals made Opposant', '2-pt field goals, % Opposant', 'centile_2-pt field goals, % Opposant', '3-pt field goals attempted Opposant', '3-pt field goals made Opposant', '3-pt field goals, % Opposant', 'centile_3-pt field goals, % Opposant', 'Free throws attempted Opposant', 'Free throws made Opposant', 'Free throws, % Opposant', 'centile_Free throws, % Opposant', 'Rebounds Opposant', 'Offensive rebounds Opposant', 'Defensive rebounds Opposant', 'Assists Opposant', 'Steals Opposant', 'Turnovers Opposant', 'Fouls Opposant', 'Equipe', 'Championnat', 'Player_1_name', 'Player_2_name', 'Player_3_name', 'Player_4_name', 'Player_5_name', 'Player_1_id', 'Player_2_id', 'Player_3_id', 'Player_4_id', 'Player_5_id', 'Secondes', 'centile_Secondes', 'Rentabilite_possessions_equipe', 'centile_Rentabilite_possessions_equipe', 'Rentabilite_possessions_opp', 'centile_Rentabilite_possessions_opp', 'Differentiel_rentabilite_possessions', 'centile_Differentiel_rentabilite_possessions', 'Rentabilite_temps_equipe', 'centile_Rentabilite_temps_equipe', 'Rentabilite_temps_opp', 'centile_Rentabilite_temps_opp', 'Differentiel_rentabilite_temps', 'centile_Differentiel_rentabilite_temps', 'True_Shooting_equipe_%', 'centile_True_Shooting_equipe_%', 'True_Shooting_%_opp', 'centile_True_Shooting_%_opp', 'Differentiel_True_Shooting_%', 'centile_Differentiel_True_Shooting_%', 'Pts_Tirs_Tentes_equipe', 'centile_Pts_Tirs_Tentes_equipe', 'Pts_Tirs_Tentes_opp', 'centile_Pts_Tirs_Tentes_opp', 'Differentiel_Pts_Tirs_Tentes', 'centile_Differentiel_Pts_Tirs_Tentes', 'Color']\n"
     ]
    }
   ],
   "source": [
    "print(data.columns.tolist())"
   ]
  },
  {
   "cell_type": "code",
   "execution_count": 17,
   "metadata": {},
   "outputs": [
    {
     "name": "stdout",
     "output_type": "stream",
     "text": [
      "['id_lineups', 'Lineup', 'Plus/Minus', 'Minutes', 'Possessions Equipe', 'Points Equipe', 'Field goals attempted Equipe', 'Field goals made Equipe', '2-pt field goals attempted Equipe', '2-pt field goals made Equipe', '2-pt field goals, % Equipe', 'centile_2-pt field goals, % Equipe', '3-pt field goals attempted Equipe', '3-pt field goals made Equipe', '3-pt field goals, % Equipe', 'centile_3-pt field goals, % Equipe', 'Free throws attempted Equipe', 'Free throws made Equipe', 'Free throws, % Equipe', 'centile_Free throws, % Equipe', 'Rebounds Equipe', 'Offensive rebounds Equipe', 'Defensive rebounds Equipe', 'Assists Equipe', 'Steals Equipe', 'Turnovers Equipe', 'Fouls Equipe', 'Possessions Opposant', 'Points Opposant', 'Field goals attempted Opposant', 'Field goals made Opposant', '2-pt field goals attempted Opposant', '2-pt field goals made Opposant', '2-pt field goals, % Opposant', 'centile_2-pt field goals, % Opposant', '3-pt field goals attempted Opposant', '3-pt field goals made Opposant', '3-pt field goals, % Opposant', 'centile_3-pt field goals, % Opposant', 'Free throws attempted Opposant', 'Free throws made Opposant', 'Free throws, % Opposant', 'centile_Free throws, % Opposant', 'Rebounds Opposant', 'Offensive rebounds Opposant', 'Defensive rebounds Opposant', 'Assists Opposant', 'Steals Opposant', 'Turnovers Opposant', 'Fouls Opposant', 'Equipe', 'Championnat', 'Player_1_name', 'Player_2_name', 'Player_3_name', 'Player_4_name', 'Player_5_name', 'Player_1_id', 'Player_2_id', 'Player_3_id', 'Player_4_id', 'Player_5_id', 'Secondes', 'centile_Secondes', 'Rentabilite_possessions_equipe', 'centile_Rentabilite_possessions_equipe', 'Rentabilite_possessions_opp', 'centile_Rentabilite_possessions_opp', 'Differentiel_rentabilite_possessions', 'centile_Differentiel_rentabilite_possessions', 'Rentabilite_temps_equipe', 'centile_Rentabilite_temps_equipe', 'Rentabilite_temps_opp', 'centile_Rentabilite_temps_opp', 'Differentiel_rentabilite_temps', 'centile_Differentiel_rentabilite_temps', 'True_Shooting_%_equipe', 'centile_True_Shooting_%_equipe', 'True_Shooting_%_opp', 'centile_True_Shooting_%_opp', 'Differentiel_True_Shooting_%', 'centile_Differentiel_True_Shooting_%', 'Pts_Tirs_Tentes_equipe', 'centile_Pts_Tirs_Tentes_equipe', 'Pts_Tirs_Tentes_opp', 'centile_Pts_Tirs_Tentes_opp', 'Differentiel_Pts_Tirs_Tentes', 'centile_Differentiel_Pts_Tirs_Tentes', 'Color']\n"
     ]
    }
   ],
   "source": [
    "#'True_Shooting_equipe_%', 'centile_True_Shooting_equipe_%', 'True_Shooting_%_opp', 'centile_True_Shooting_%_opp'\n",
    "\n",
    "data.rename(columns={\n",
    "    \"True_Shooting_equipe_%\": \"True_Shooting_%_equipe\",\n",
    "    \"centile_True_Shooting_equipe_%\": \"centile_True_Shooting_%_equipe\"\n",
    "}, inplace=True)\n",
    "print(data.columns.tolist())"
   ]
  },
  {
   "cell_type": "code",
   "execution_count": 63,
   "metadata": {},
   "outputs": [],
   "source": [
    "data = pd.read_csv(\"C:/Users/angel/Downloads/analyse_lineups_azad/lineups_rentabilite_1301.csv\")\n",
    "data.rename(columns={\n",
    "    \"True_Shooting_equipe_%\": \"True_Shooting_%_equipe\",\n",
    "    \"centile_True_Shooting_equipe_%\": \"centile_True_Shooting_%_equipe\"\n",
    "}, inplace=True)\n",
    "data.to_csv(\"C:/Users/angel/Downloads/analyse_lineups_azad/lineups_rentabilite_1301_clean.csv\", index=False)"
   ]
  },
  {
   "cell_type": "markdown",
   "metadata": {},
   "source": [
    "#### filtrage temporel par minutes jouées"
   ]
  },
  {
   "cell_type": "markdown",
   "metadata": {},
   "source": [
    "*changer le format de la colonne minutes pour qu'elle soit au format timedelta et que l'on puisse générer un slider*"
   ]
  },
  {
   "cell_type": "code",
   "execution_count": 40,
   "metadata": {},
   "outputs": [],
   "source": [
    "data = pd.read_csv(\"C:/Users/angel/Downloads/analyse_lineups_azad/lineups_rentabilite_1301.csv\")\n",
    "#data.info()"
   ]
  },
  {
   "cell_type": "code",
   "execution_count": 35,
   "metadata": {},
   "outputs": [
    {
     "data": {
      "text/plain": [
       "0      34:33\n",
       "1      34:01\n",
       "2      23:01\n",
       "3      21:08\n",
       "4      19:00\n",
       "       ...  \n",
       "199    17:33\n",
       "200    15:36\n",
       "201    14:42\n",
       "202    11:42\n",
       "203    10:45\n",
       "Name: Minutes, Length: 204, dtype: object"
      ]
     },
     "execution_count": 35,
     "metadata": {},
     "output_type": "execute_result"
    }
   ],
   "source": [
    "data['Minutes']"
   ]
  },
  {
   "cell_type": "code",
   "execution_count": 59,
   "metadata": {},
   "outputs": [
    {
     "data": {
      "text/html": [
       "<div>\n",
       "<style scoped>\n",
       "    .dataframe tbody tr th:only-of-type {\n",
       "        vertical-align: middle;\n",
       "    }\n",
       "\n",
       "    .dataframe tbody tr th {\n",
       "        vertical-align: top;\n",
       "    }\n",
       "\n",
       "    .dataframe thead th {\n",
       "        text-align: right;\n",
       "    }\n",
       "</style>\n",
       "<table border=\"1\" class=\"dataframe\">\n",
       "  <thead>\n",
       "    <tr style=\"text-align: right;\">\n",
       "      <th></th>\n",
       "      <th>Minutes</th>\n",
       "      <th>minutes_filtre</th>\n",
       "    </tr>\n",
       "  </thead>\n",
       "  <tbody>\n",
       "    <tr>\n",
       "      <th>0</th>\n",
       "      <td>34:33</td>\n",
       "      <td>0 days 00:34:33</td>\n",
       "    </tr>\n",
       "    <tr>\n",
       "      <th>1</th>\n",
       "      <td>34:01</td>\n",
       "      <td>0 days 00:34:01</td>\n",
       "    </tr>\n",
       "    <tr>\n",
       "      <th>2</th>\n",
       "      <td>23:01</td>\n",
       "      <td>0 days 00:23:01</td>\n",
       "    </tr>\n",
       "    <tr>\n",
       "      <th>3</th>\n",
       "      <td>21:08</td>\n",
       "      <td>0 days 00:21:08</td>\n",
       "    </tr>\n",
       "    <tr>\n",
       "      <th>4</th>\n",
       "      <td>19:00</td>\n",
       "      <td>0 days 00:19:00</td>\n",
       "    </tr>\n",
       "    <tr>\n",
       "      <th>...</th>\n",
       "      <td>...</td>\n",
       "      <td>...</td>\n",
       "    </tr>\n",
       "    <tr>\n",
       "      <th>199</th>\n",
       "      <td>17:33</td>\n",
       "      <td>0 days 00:17:33</td>\n",
       "    </tr>\n",
       "    <tr>\n",
       "      <th>200</th>\n",
       "      <td>15:36</td>\n",
       "      <td>0 days 00:15:36</td>\n",
       "    </tr>\n",
       "    <tr>\n",
       "      <th>201</th>\n",
       "      <td>14:42</td>\n",
       "      <td>0 days 00:14:42</td>\n",
       "    </tr>\n",
       "    <tr>\n",
       "      <th>202</th>\n",
       "      <td>11:42</td>\n",
       "      <td>0 days 00:11:42</td>\n",
       "    </tr>\n",
       "    <tr>\n",
       "      <th>203</th>\n",
       "      <td>10:45</td>\n",
       "      <td>0 days 00:10:45</td>\n",
       "    </tr>\n",
       "  </tbody>\n",
       "</table>\n",
       "<p>204 rows × 2 columns</p>\n",
       "</div>"
      ],
      "text/plain": [
       "    Minutes  minutes_filtre\n",
       "0     34:33 0 days 00:34:33\n",
       "1     34:01 0 days 00:34:01\n",
       "2     23:01 0 days 00:23:01\n",
       "3     21:08 0 days 00:21:08\n",
       "4     19:00 0 days 00:19:00\n",
       "..      ...             ...\n",
       "199   17:33 0 days 00:17:33\n",
       "200   15:36 0 days 00:15:36\n",
       "201   14:42 0 days 00:14:42\n",
       "202   11:42 0 days 00:11:42\n",
       "203   10:45 0 days 00:10:45\n",
       "\n",
       "[204 rows x 2 columns]"
      ]
     },
     "metadata": {},
     "output_type": "display_data"
    },
    {
     "data": {
      "text/plain": [
       "Minutes                    object\n",
       "minutes_filtre    timedelta64[ns]\n",
       "dtype: object"
      ]
     },
     "execution_count": 59,
     "metadata": {},
     "output_type": "execute_result"
    }
   ],
   "source": [
    "data = pd.read_csv(\"C:/Users/angel/Downloads/analyse_lineups_azad/lineups_rentabilite_1301_clean.csv\")\n",
    "data[\"minutes_filtre\"] = pd.to_timedelta(\"00:\" +data[\"Minutes\"])\n",
    "display(data[[\"Minutes\", \"minutes_filtre\"]])\n",
    "data[[\"Minutes\", \"minutes_filtre\"]].dtypes"
   ]
  },
  {
   "cell_type": "code",
   "execution_count": 44,
   "metadata": {},
   "outputs": [
    {
     "data": {
      "text/plain": [
       "Minutes              timedelta64[ns]\n",
       "formatted_minutes             object\n",
       "dtype: object"
      ]
     },
     "execution_count": 44,
     "metadata": {},
     "output_type": "execute_result"
    }
   ],
   "source": [
    "data[[\"Minutes\",\"formatted_minutes\"]].dtypes"
   ]
  },
  {
   "cell_type": "code",
   "execution_count": 38,
   "metadata": {},
   "outputs": [
    {
     "data": {
      "text/html": [
       "<div>\n",
       "<style scoped>\n",
       "    .dataframe tbody tr th:only-of-type {\n",
       "        vertical-align: middle;\n",
       "    }\n",
       "\n",
       "    .dataframe tbody tr th {\n",
       "        vertical-align: top;\n",
       "    }\n",
       "\n",
       "    .dataframe thead th {\n",
       "        text-align: right;\n",
       "    }\n",
       "</style>\n",
       "<table border=\"1\" class=\"dataframe\">\n",
       "  <thead>\n",
       "    <tr style=\"text-align: right;\">\n",
       "      <th></th>\n",
       "      <th>Minutes</th>\n",
       "      <th>formatted_minutes</th>\n",
       "    </tr>\n",
       "  </thead>\n",
       "  <tbody>\n",
       "    <tr>\n",
       "      <th>0</th>\n",
       "      <td>0 days 00:34:33</td>\n",
       "      <td>00:34:33</td>\n",
       "    </tr>\n",
       "    <tr>\n",
       "      <th>1</th>\n",
       "      <td>0 days 00:34:01</td>\n",
       "      <td>00:34:01</td>\n",
       "    </tr>\n",
       "    <tr>\n",
       "      <th>2</th>\n",
       "      <td>0 days 00:23:01</td>\n",
       "      <td>00:23:01</td>\n",
       "    </tr>\n",
       "    <tr>\n",
       "      <th>3</th>\n",
       "      <td>0 days 00:21:08</td>\n",
       "      <td>00:21:08</td>\n",
       "    </tr>\n",
       "    <tr>\n",
       "      <th>4</th>\n",
       "      <td>0 days 00:19:00</td>\n",
       "      <td>00:19:00</td>\n",
       "    </tr>\n",
       "    <tr>\n",
       "      <th>...</th>\n",
       "      <td>...</td>\n",
       "      <td>...</td>\n",
       "    </tr>\n",
       "    <tr>\n",
       "      <th>199</th>\n",
       "      <td>0 days 00:17:33</td>\n",
       "      <td>00:17:33</td>\n",
       "    </tr>\n",
       "    <tr>\n",
       "      <th>200</th>\n",
       "      <td>0 days 00:15:36</td>\n",
       "      <td>00:15:36</td>\n",
       "    </tr>\n",
       "    <tr>\n",
       "      <th>201</th>\n",
       "      <td>0 days 00:14:42</td>\n",
       "      <td>00:14:42</td>\n",
       "    </tr>\n",
       "    <tr>\n",
       "      <th>202</th>\n",
       "      <td>0 days 00:11:42</td>\n",
       "      <td>00:11:42</td>\n",
       "    </tr>\n",
       "    <tr>\n",
       "      <th>203</th>\n",
       "      <td>0 days 00:10:45</td>\n",
       "      <td>00:10:45</td>\n",
       "    </tr>\n",
       "  </tbody>\n",
       "</table>\n",
       "<p>204 rows × 2 columns</p>\n",
       "</div>"
      ],
      "text/plain": [
       "            Minutes formatted_minutes\n",
       "0   0 days 00:34:33          00:34:33\n",
       "1   0 days 00:34:01          00:34:01\n",
       "2   0 days 00:23:01          00:23:01\n",
       "3   0 days 00:21:08          00:21:08\n",
       "4   0 days 00:19:00          00:19:00\n",
       "..              ...               ...\n",
       "199 0 days 00:17:33          00:17:33\n",
       "200 0 days 00:15:36          00:15:36\n",
       "201 0 days 00:14:42          00:14:42\n",
       "202 0 days 00:11:42          00:11:42\n",
       "203 0 days 00:10:45          00:10:45\n",
       "\n",
       "[204 rows x 2 columns]"
      ]
     },
     "execution_count": 38,
     "metadata": {},
     "output_type": "execute_result"
    }
   ],
   "source": [
    "# Formatage en %H:%M:%S\n",
    "data[\"formatted_minutes\"] = data[\"Minutes\"].apply(lambda x: str(x).split(\"days\")[-1].strip())\n",
    "data[[\"Minutes\",\"formatted_minutes\"]]\n"
   ]
  },
  {
   "cell_type": "code",
   "execution_count": 64,
   "metadata": {},
   "outputs": [
    {
     "name": "stdout",
     "output_type": "stream",
     "text": [
      "(204, 89)\n",
      "(204, 90)\n"
     ]
    }
   ],
   "source": [
    "data = pd.read_csv(\"C:/Users/angel/Downloads/analyse_lineups_azad/lineups_rentabilite_1301_clean.csv\")\n",
    "print(data.shape)\n",
    "data[\"minutes_filtre\"] = pd.to_timedelta(\"00:\" +data[\"Minutes\"])\n",
    "print(data.shape)\n",
    "data.to_csv(\"C:/Users/angel/Downloads/analyse_lineups_azad/lineups_rentabilite_1301_clean.csv\", index=False)"
   ]
  },
  {
   "cell_type": "code",
   "execution_count": 65,
   "metadata": {},
   "outputs": [
    {
     "name": "stdout",
     "output_type": "stream",
     "text": [
      "(204, 90)\n"
     ]
    }
   ],
   "source": [
    "data = pd.read_csv(\"C:/Users/angel/Downloads/analyse_lineups_azad/lineups_rentabilite_1301_clean.csv\")\n",
    "print(data.shape)"
   ]
  },
  {
   "cell_type": "code",
   "execution_count": null,
   "metadata": {},
   "outputs": [],
   "source": [
    "def create_team_filters(data):\n",
    "    \"\"\"\n",
    "    Fonction pour créer des filtres relatifs aux équipes, aux joueurs et aux données filtrées.\n",
    "    \"\"\"\n",
    "    # Sélection des équipes\n",
    "    team_name = st.sidebar.selectbox(\"Équipe de référence\", data[\"Equipe\"].unique())\n",
    "    opponent_name = st.sidebar.selectbox(\"Équipe adverse\", [team for team in data[\"Equipe\"].unique() if team != team_name])\n",
    "\n",
    "    # Filtrage des joueurs en fonction de l'équipe sélectionnée\n",
    "    team_data = data[data[\"Equipe\"] == team_name]\n",
    "    opponent_data = data[data[\"Equipe\"] == opponent_name]\n",
    "\n",
    "    # Récupérer la liste des joueurs pour chaque équipe\n",
    "    def extract_unique_players(df):\n",
    "        players = set(\n",
    "            df[\"Player_1_name\"].tolist() +\n",
    "            df[\"Player_2_name\"].tolist() +\n",
    "            df[\"Player_3_name\"].tolist() +\n",
    "            df[\"Player_4_name\"].tolist() +\n",
    "            df[\"Player_5_name\"].tolist()\n",
    "        )\n",
    "        return sorted([player for player in players if pd.notnull(player)])\n",
    "\n",
    "    team_players = extract_unique_players(team_data)\n",
    "    opponent_players = extract_unique_players(opponent_data)\n",
    "\n",
    "    # Filtre des joueurs\n",
    "    player_filter_team = st.sidebar.multiselect(\"Joueurs de l'équipe de référence\", team_players)\n",
    "    player_filter_opponent = st.sidebar.multiselect(\"Joueurs de l'équipe adverse\", opponent_players)\n",
    "\n",
    "    # Filtrage des données des joueurs sélectionnés (que pour les heatmap)\n",
    "    if player_filter_team:\n",
    "        team_data_filtered = team_data[team_data[\"Player_1_name\"].isin(player_filter_team) |\n",
    "                                       team_data[\"Player_2_name\"].isin(player_filter_team) |\n",
    "                                       team_data[\"Player_3_name\"].isin(player_filter_team) |\n",
    "                                       team_data[\"Player_4_name\"].isin(player_filter_team) |\n",
    "                                       team_data[\"Player_5_name\"].isin(player_filter_team)]\n",
    "    else:\n",
    "        team_data_filtered = team_data  # on prévoit les cas où monsieur basket ne filtre pas les joueurs \n",
    "\n",
    "    if player_filter_opponent:\n",
    "        opponent_data_filtered = opponent_data[opponent_data[\"Player_1_name\"].isin(player_filter_opponent) |\n",
    "                                                opponent_data[\"Player_2_name\"].isin(player_filter_opponent) |\n",
    "                                                opponent_data[\"Player_3_name\"].isin(player_filter_opponent) |\n",
    "                                                opponent_data[\"Player_4_name\"].isin(player_filter_opponent) |\n",
    "                                                opponent_data[\"Player_5_name\"].isin(player_filter_opponent)]\n",
    "    else:\n",
    "        opponent_data_filtered = opponent_data  # on prévoit les cas où monsieur basket ne filtre pas les joueurs \n",
    "\n",
    "    return team_name, opponent_name, player_filter_team, player_filter_opponent, team_data_filtered, opponent_data_filtered\n"
   ]
  },
  {
   "cell_type": "code",
   "execution_count": null,
   "metadata": {},
   "outputs": [],
   "source": [
    "def filters(data):\n",
    "    \"\"\"\n",
    "    Crée les filtres pour la sélection de l'équipe, de l'équipe adverse, et des joueurs.\n",
    "    \n",
    "    :param data: Le DataFrame contenant toutes les données.\n",
    "    :return: Les filtres appliqués et les équipes sélectionnées.\n",
    "    \"\"\"\n",
    "    # Sélection des équipes\n",
    "    team_name = st.sidebar.selectbox(\"Équipe de référence\", data[\"Equipe\"].unique())\n",
    "    opponent_name = st.sidebar.selectbox(\"Équipe adverse\", [team for team in data[\"Equipe\"].unique() if team != team_name])\n",
    "    \n",
    "    # Récupérer la liste des joueurs pour chaque équipe\n",
    "    def extract_unique_players(df):\n",
    "        players = set(\n",
    "            df[\"Player_1_name\"].tolist() +\n",
    "            df[\"Player_2_name\"].tolist() +\n",
    "            df[\"Player_3_name\"].tolist() +\n",
    "            df[\"Player_4_name\"].tolist() +\n",
    "            df[\"Player_5_name\"].tolist()\n",
    "        )\n",
    "        return sorted([player for player in players if pd.notnull(player)])\n",
    "\n",
    "    team_players = extract_unique_players(data[data[\"Equipe\"] == team_name])\n",
    "    opponent_players = extract_unique_players(data[data[\"Equipe\"] == opponent_name])\n",
    "\n",
    "    # Sélection des joueurs à filtrer\n",
    "    player_filter_team = st.sidebar.multiselect(\"Joueurs de l'équipe de référence\", team_players)\n",
    "    player_filter_opponent = st.sidebar.multiselect(\"Joueurs de l'équipe adverse\", opponent_players)\n",
    "\n",
    "    return team_name, opponent_name, player_filter_team, player_filter_opponent\n"
   ]
  },
  {
   "cell_type": "code",
   "execution_count": null,
   "metadata": {},
   "outputs": [],
   "source": [
    "team_data, opponent_data\n",
    "team_players, opponent_players \n",
    "\n",
    "team_name, opponent_name, \n",
    "player_filter_team, player_filter_opponent, \n",
    "team_data_filtered, opponent_data_filtered"
   ]
  },
  {
   "cell_type": "code",
   "execution_count": null,
   "metadata": {},
   "outputs": [],
   "source": [
    "import streamlit as st\n",
    "import pandas as pd\n",
    "\n",
    "# Exemple de données\n",
    "data = {\"minutes\": [\"13:35\", \"45:20\", \"120:00\", \"5:15\"]}\n",
    "df = pd.DataFrame(data)\n",
    "\n",
    "# Conversion en timedelta\n",
    "df[\"minutes\"] = pd.to_timedelta(\"00:\" + df[\"minutes\"])\n",
    "df[\"formatted_minutes\"] = df[\"minutes\"].apply(lambda x: str(x)[-8:])  # Format H:M:S\n",
    "\n",
    "# Slider pour filtrer les minutes\n",
    "min_time = df[\"minutes\"].min()\n",
    "max_time = df[\"minutes\"].max()\n",
    "selected_time = st.slider(\"Filtre des minutes jouées\", min_value=min_time, max_value=max_time, value=(min_time, max_time))\n",
    "\n",
    "# Filtrer les données\n",
    "filtered_df = df[(df[\"minutes\"] >= selected_time[0]) & (df[\"minutes\"] <= selected_time[1])]\n",
    "\n",
    "# Afficher les données filtrées\n",
    "st.write(filtered_df[[\"formatted_minutes\"]])\n"
   ]
  }
 ],
 "metadata": {
  "kernelspec": {
   "display_name": "Python 3",
   "language": "python",
   "name": "python3"
  },
  "language_info": {
   "codemirror_mode": {
    "name": "ipython",
    "version": 3
   },
   "file_extension": ".py",
   "mimetype": "text/x-python",
   "name": "python",
   "nbconvert_exporter": "python",
   "pygments_lexer": "ipython3",
   "version": "3.11.5"
  }
 },
 "nbformat": 4,
 "nbformat_minor": 2
}
